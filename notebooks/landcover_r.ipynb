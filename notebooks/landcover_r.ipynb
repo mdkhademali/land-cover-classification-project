{
 "cells": [
  {
   "cell_type": "markdown",
   "metadata": {},
   "source": [
    "## Import R libraries"
   ]
  },
  {
   "cell_type": "code",
   "execution_count": null,
   "metadata": {},
   "outputs": [],
   "source": [
    "library(raster)\n",
    "library(rgdal)\n",
    "library(randomForest)\n",
    "library(ggplot2)\n",
    "library(sf)"
   ]
  },
  {
   "cell_type": "markdown",
   "metadata": {},
   "source": [
    "## Load Satellite Image (Raster Data)"
   ]
  },
  {
   "cell_type": "code",
   "execution_count": null,
   "metadata": {},
   "outputs": [],
   "source": [
    "raster_data <- stack(\"data/landcover.tif\")"
   ]
  },
  {
   "cell_type": "markdown",
   "metadata": {},
   "source": [
    "## Calculate NDVI"
   ]
  },
  {
   "cell_type": "code",
   "execution_count": null,
   "metadata": {},
   "outputs": [],
   "source": [
    "ndvi <- (raster_data[[4]] - raster_data[[1]]) / (raster_data[[4]] + raster_data[[1]])"
   ]
  },
  {
   "cell_type": "markdown",
   "metadata": {},
   "source": [
    "## Plot NDVI"
   ]
  },
  {
   "cell_type": "code",
   "execution_count": null,
   "metadata": {},
   "outputs": [],
   "source": [
    "ggplot() +\n",
    "  geom_raster(data = as.data.frame(rasterToPoints(ndvi)), aes(x = x, y = y, fill = layer)) +\n",
    "  scale_fill_gradient(low = \"yellow\", high = \"green\") +\n",
    "  ggtitle(\"NDVI Map\")\n",
    "ggsave(\"outputs/ndvi_map.png\")"
   ]
  },
  {
   "cell_type": "markdown",
   "metadata": {},
   "source": [
    "## Load Training Data"
   ]
  },
  {
   "cell_type": "code",
   "execution_count": null,
   "metadata": {},
   "outputs": [],
   "source": [
    "train_data <- st_read(\"data/training_points.geojson\")\n",
    "X <- train_data[, c(\"nir\", \"red\")]\n",
    "y <- as.factor(train_data$class)"
   ]
  },
  {
   "cell_type": "markdown",
   "metadata": {},
   "source": [
    "## Train/Test Split"
   ]
  },
  {
   "cell_type": "code",
   "execution_count": null,
   "metadata": {},
   "outputs": [],
   "source": [
    "set.seed(42)\n",
    "train_idx <- sample(1:nrow(X), size = 0.8 * nrow(X))\n",
    "X_train <- X[train_idx, ]\n",
    "y_train <- y[train_idx]\n",
    "X_test <- X[-train_idx, ]\n",
    "y_test <- y[-train_idx]"
   ]
  },
  {
   "cell_type": "markdown",
   "metadata": {},
   "source": [
    "## Train Random Forest Model"
   ]
  },
  {
   "cell_type": "code",
   "execution_count": null,
   "metadata": {},
   "outputs": [],
   "source": [
    "rf_model <- randomForest(X_train, y_train, ntree = 100, set.seed(42))"
   ]
  },
  {
   "cell_type": "markdown",
   "metadata": {},
   "source": [
    "## Save Model"
   ]
  },
  {
   "cell_type": "code",
   "execution_count": null,
   "metadata": {},
   "outputs": [],
   "source": [
    "saveRDS(rf_model, \"models/rf_model.rds\")"
   ]
  },
  {
   "cell_type": "markdown",
   "metadata": {},
   "source": [
    "## Evaluate Model"
   ]
  },
  {
   "cell_type": "code",
   "execution_count": null,
   "metadata": {},
   "outputs": [],
   "source": [
    "preds <- predict(rf_model, X_test)\n",
    "accuracy <- sum(preds == y_test) / length(y_test)\n",
    "print(paste(\"Model Accuracy:\", round(accuracy, 2)))"
   ]
  }
 ],
 "metadata": {
  "language_info": {
   "name": "python"
  }
 },
 "nbformat": 4,
 "nbformat_minor": 2
}
